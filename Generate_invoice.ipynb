{
  "nbformat": 4,
  "nbformat_minor": 0,
  "metadata": {
    "colab": {
      "provenance": [],
      "authorship_tag": "ABX9TyNqOEycdB2WrzUhk1kd8woz",
      "include_colab_link": true
    },
    "kernelspec": {
      "name": "python3",
      "display_name": "Python 3"
    },
    "language_info": {
      "name": "python"
    }
  },
  "cells": [
    {
      "cell_type": "markdown",
      "metadata": {
        "id": "view-in-github",
        "colab_type": "text"
      },
      "source": [
        "<a href=\"https://colab.research.google.com/github/mariapaulati/Supervised_Learning_Project_Samsung/blob/main/Generate_invoice.ipynb\" target=\"_parent\"><img src=\"https://colab.research.google.com/assets/colab-badge.svg\" alt=\"Open In Colab\"/></a>"
      ]
    },
    {
      "cell_type": "code",
      "execution_count": null,
      "metadata": {
        "id": "STieaiPYAZbT"
      },
      "outputs": [],
      "source": []
    },
    {
      "cell_type": "code",
      "source": [
        "!pip install fpdf\n",
        "\n",
        "from fpdf import FPDF\n",
        "\n",
        "def generate_invoice(data):\n",
        "    # Initialize PDF\n",
        "    pdf = FPDF()\n",
        "    pdf.add_page()\n",
        "    pdf.set_font('Arial', 'B', 16)\n",
        "\n",
        "    # Header (Sin imagen de logo)\n",
        "    pdf.set_xy(70, 10)\n",
        "    pdf.cell(100, 10, 'Mozio Inc', ln=True)\n",
        "    pdf.set_font('Arial', '', 12)\n",
        "    pdf.set_xy(70, 18)\n",
        "    pdf.cell(100, 10, 'Tehama Street 44, San Francisco, CA, 94105', ln=True)\n",
        "    pdf.set_xy(70, 26)\n",
        "    pdf.cell(100, 10, 'Phone: +1 415 992 8057', ln=True)\n",
        "    pdf.set_xy(70, 34)\n",
        "    pdf.cell(100, 10, 'Website: www.mozio.com', ln=True)\n",
        "\n",
        "    # Invoice Title\n",
        "    pdf.set_font('Arial', 'B', 16)\n",
        "    pdf.set_xy(10, 50)\n",
        "    pdf.cell(0, 10, 'INVOICE', ln=True, align='C')\n",
        "\n",
        "    # Invoice Details\n",
        "    pdf.set_xy(10, 60)\n",
        "    pdf.set_font('Arial', '', 12)\n",
        "    pdf.cell(100, 10, f\"Invoice #: {data['invoice_number']}\", ln=False)\n",
        "    pdf.cell(0, 10, f\"Date: {data['date']}\", ln=True, align='R')\n",
        "\n",
        "    # Bill To\n",
        "    pdf.set_xy(10, 75)\n",
        "    pdf.set_font('Arial', 'B', 12)\n",
        "    pdf.cell(0, 10, 'BILL TO:', ln=True)\n",
        "    pdf.set_font('Arial', '', 12)\n",
        "    pdf.cell(0, 10, data['passenger_name'], ln=True)\n",
        "    pdf.cell(0, 10, data['company'], ln=True)\n",
        "    pdf.cell(0, 10, data['address'], ln=True)\n",
        "\n",
        "    # Ride Details\n",
        "    pdf.set_xy(10, 110)\n",
        "    pdf.set_font('Arial', 'B', 12)\n",
        "    pdf.cell(0, 10, 'Item', border=1, ln=False, align='L')\n",
        "    pdf.cell(0, 10, 'Amount', border=1, ln=True, align='R')\n",
        "    pdf.set_font('Arial', '', 12)\n",
        "    pdf.cell(0, 10, f\"Booking ID: {data['booking_id']}\", border=1, ln=False, align='L')\n",
        "    pdf.cell(0, 10, data['amount'], border=1, ln=True, align='R')\n",
        "    pdf.cell(0, 10, f\"From: {data['from_location']}\", border=1, ln=False)\n",
        "    pdf.cell(0, 10, f\"\", border=1, ln=True)\n",
        "    pdf.cell(0, 10, f\"To: {data['to_location']}\", border=1, ln=False)\n",
        "    pdf.cell(0, 10, f\"\", border=1, ln=True)\n",
        "\n",
        "    # Output\n",
        "    pdf.output('invoice.pdf')\n",
        "    print(\"Invoice saved as 'invoice.pdf'.\")\n",
        "\n",
        "# Input Data\n",
        "ride_details = {\n",
        "    \"invoice_number\": \"1430-6174\",\n",
        "    \"date\": \"1/28/2025\",\n",
        "    \"passenger_name\": \"Sierra Huerta\",\n",
        "    \"company\": \"Cruise Planners TA\",\n",
        "    \"address\": \"Dionysos Sea Side Resort, Mylopotas, Greece\",\n",
        "    \"booking_id\": \"2167487\",\n",
        "    \"pickup\": \"May 15, 2025 9:49 AM\",\n",
        "    \"from_location\": \"Dionysos Sea Side Resort, Mylopotas, Greece\",\n",
        "    \"to_location\": \"Olia Hotel Mykonos, Mykonos, Greece\",\n",
        "    \"vehicle\": \"Private Van\",\n",
        "    \"service_type\": \"Point To Point\",\n",
        "    \"amount\": \"117.95 EUR\"\n",
        "}\n",
        "\n",
        "# Generate Invoice\n",
        "generate_invoice(ride_details)\n",
        "\n",
        "from google.colab import files\n",
        "files.download('invoice.pdf')\n"
      ],
      "metadata": {
        "colab": {
          "base_uri": "https://localhost:8080/",
          "height": 53
        },
        "id": "k5wv6uwlAc0c",
        "outputId": "0da31357-a740-4e8a-af19-2b9f783483fb"
      },
      "execution_count": 5,
      "outputs": [
        {
          "output_type": "stream",
          "name": "stdout",
          "text": [
            "Requirement already satisfied: fpdf in /usr/local/lib/python3.11/dist-packages (1.7.2)\n",
            "Invoice saved as 'invoice.pdf'.\n"
          ]
        },
        {
          "output_type": "display_data",
          "data": {
            "text/plain": [
              "<IPython.core.display.Javascript object>"
            ],
            "application/javascript": [
              "\n",
              "    async function download(id, filename, size) {\n",
              "      if (!google.colab.kernel.accessAllowed) {\n",
              "        return;\n",
              "      }\n",
              "      const div = document.createElement('div');\n",
              "      const label = document.createElement('label');\n",
              "      label.textContent = `Downloading \"${filename}\": `;\n",
              "      div.appendChild(label);\n",
              "      const progress = document.createElement('progress');\n",
              "      progress.max = size;\n",
              "      div.appendChild(progress);\n",
              "      document.body.appendChild(div);\n",
              "\n",
              "      const buffers = [];\n",
              "      let downloaded = 0;\n",
              "\n",
              "      const channel = await google.colab.kernel.comms.open(id);\n",
              "      // Send a message to notify the kernel that we're ready.\n",
              "      channel.send({})\n",
              "\n",
              "      for await (const message of channel.messages) {\n",
              "        // Send a message to notify the kernel that we're ready.\n",
              "        channel.send({})\n",
              "        if (message.buffers) {\n",
              "          for (const buffer of message.buffers) {\n",
              "            buffers.push(buffer);\n",
              "            downloaded += buffer.byteLength;\n",
              "            progress.value = downloaded;\n",
              "          }\n",
              "        }\n",
              "      }\n",
              "      const blob = new Blob(buffers, {type: 'application/binary'});\n",
              "      const a = document.createElement('a');\n",
              "      a.href = window.URL.createObjectURL(blob);\n",
              "      a.download = filename;\n",
              "      div.appendChild(a);\n",
              "      a.click();\n",
              "      div.remove();\n",
              "    }\n",
              "  "
            ]
          },
          "metadata": {}
        },
        {
          "output_type": "display_data",
          "data": {
            "text/plain": [
              "<IPython.core.display.Javascript object>"
            ],
            "application/javascript": [
              "download(\"download_1a77bab5-e974-4013-9be4-8cfa40bbbe81\", \"invoice.pdf\", 1534)"
            ]
          },
          "metadata": {}
        }
      ]
    }
  ]
}